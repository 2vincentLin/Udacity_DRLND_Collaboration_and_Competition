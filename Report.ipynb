{
 "cells": [
  {
   "cell_type": "markdown",
   "metadata": {},
   "source": [
    "# Udacity DRLND Collaboration and Competition"
   ]
  },
  {
   "cell_type": "markdown",
   "metadata": {},
   "source": [
    "### Algorithm\n",
    "\n",
    "The choice of algorithm to solve the Unity Tennis environment is [DDPG](https://arxiv.org/abs/1509.02971). Both players use different replay buffer.\n",
    "\n",
    "### Hyperparameters\n",
    "\n",
    "    BUFFER_SIZE = int(1e6)  # replay buffer size  \n",
    "    BATCH_SIZE = 256        # minibatch size  \n",
    "    GAMMA = 0.9             # discount factor  \n",
    "    TAU = 1e-3              # for soft update of target parameters  \n",
    "    LR_ACTOR = 1e-4         # learning rate of the actor  \n",
    "    LR_CRITIC = 1e-4        # learning rate of the critic  \n",
    "    WEIGHT_DECAY = 0.0001   # L2 weight decay\n",
    "\n",
    "### Model architecture\n",
    "\n",
    "For this project, I used a slightly simple neural network, so using GPU does not actually speed up much compared to training on CPU.\n",
    "\n",
    "Actor-network\n",
    "\n",
    "| <i></i>  |input units|output units|\n",
    "|---|---|---|\n",
    "|input layer|24|128|\n",
    "|hidden layer|128|128|\n",
    "|output layer|128|2|\n",
    "\n",
    "Critic-network\n",
    "\n",
    "| <i></i>  |input units|output units|\n",
    "|---|---|---|\n",
    "|input layer|24|128|\n",
    "|hidden layer|128+2|128|\n",
    "|output layer|128|1|\n",
    "\n",
    "I also add batch normalization layer on most layers except before input and after output layer of Critic-network."
   ]
  },
  {
   "cell_type": "markdown",
   "metadata": {},
   "source": [
    "## 1. load the necessary package"
   ]
  },
  {
   "cell_type": "code",
   "execution_count": 1,
   "metadata": {},
   "outputs": [],
   "source": [
    "%load_ext autoreload\n",
    "%autoreload 1"
   ]
  },
  {
   "cell_type": "code",
   "execution_count": 2,
   "metadata": {},
   "outputs": [],
   "source": [
    "from unityagents import UnityEnvironment\n",
    "import numpy as np\n",
    "import random\n",
    "import torch\n",
    "import numpy as np\n",
    "from collections import deque\n",
    "import matplotlib.pyplot as plt\n",
    "%matplotlib inline\n",
    "\n",
    "%aimport ddpg_agents\n",
    "from ddpg_agents import Agent\n",
    "from model import Actor, Critic"
   ]
  },
  {
   "cell_type": "code",
   "execution_count": 3,
   "metadata": {},
   "outputs": [
    {
     "name": "stderr",
     "output_type": "stream",
     "text": [
      "INFO:unityagents:\n",
      "'Academy' started successfully!\n",
      "Unity Academy name: Academy\n",
      "        Number of Brains: 1\n",
      "        Number of External Brains : 1\n",
      "        Lesson number : 0\n",
      "        Reset Parameters :\n",
      "\t\t\n",
      "Unity brain name: TennisBrain\n",
      "        Number of Visual Observations (per agent): 0\n",
      "        Vector Observation space type: continuous\n",
      "        Vector Observation space size (per agent): 8\n",
      "        Number of stacked Vector Observation: 3\n",
      "        Vector Action space type: continuous\n",
      "        Vector Action space size (per agent): 2\n",
      "        Vector Action descriptions: , \n"
     ]
    },
    {
     "name": "stdout",
     "output_type": "stream",
     "text": [
      "Number of agents: 2\n",
      "Size of each action: 2\n",
      "states shape:  (2, 24)\n"
     ]
    }
   ],
   "source": [
    "file = \"Tennis_Windows_x86_64/Tennis.exe\"\n",
    "env = UnityEnvironment(file_name=file)\n",
    "brain_name = env.brain_names[0]\n",
    "brain = env.brains[brain_name]\n",
    "# reset the environment\n",
    "env_info = env.reset(train_mode=True)[brain_name]\n",
    "# number of agents\n",
    "num_agents = len(env_info.agents)\n",
    "print('Number of agents:', num_agents)\n",
    "# size of each action\n",
    "action_size = brain.vector_action_space_size\n",
    "print('Size of each action:', action_size)\n",
    "# examine the state space \n",
    "states = env_info.vector_observations\n",
    "print('states shape: ', states.shape)\n",
    "state_size = states.shape[1]\n",
    "full_state_size = num_agents * state_size\n"
   ]
  },
  {
   "cell_type": "markdown",
   "metadata": {},
   "source": [
    "## 2. training control\n",
    "\n",
    "Due to the long training time, I come up with a simple idea to be able to stop and continue the training without losing any progress. I create a python dictionary called log to store some hyperparameters like total_episodes, etc. Then I use another python script called log_control to check and modify log. To be able to stop the training anytime I want, there is an item whose key called 'end_now', if I want to end the training, I simply call end_now() in log_control.py, then before the next episode, ddpg() will check if it's True, if yes, then ddpg() ends the training right away. "
   ]
  },
  {
   "cell_type": "code",
   "execution_count": 30,
   "metadata": {},
   "outputs": [],
   "source": [
    "import pickle\n",
    "log = {\n",
    "    'total_episodes': 3000,\n",
    "    'current_episodes': 0,\n",
    "    'scores': [],\n",
    "    'save_every': 100,\n",
    "    'print_every': 100,\n",
    "    'end_now': False,\n",
    "    'solved': False,\n",
    "    'solved_score':0.5,\n",
    "    'solve_in_episodes': None\n",
    "}\n",
    "\n",
    "import os.path\n",
    "log_path = 'log.pkl'\n",
    "\n",
    "def save_log(log_path, log):\n",
    "    with open(log_path, 'wb') as f: \n",
    "        pickle.dump(log, f)\n",
    "def load_log(log_path):\n",
    "    with open(log_path, 'rb') as f: \n",
    "        log = pickle.load(f)\n",
    "    return log\n",
    "\n",
    "# uncomment the following line if you need to restart\n",
    "# save_log(log_path, log)\n",
    "\n",
    "if os.path.exists(log_path):\n",
    "    log = load_log(log_path)\n",
    "else:\n",
    "    save_log(log_path, log)\n"
   ]
  },
  {
   "cell_type": "markdown",
   "metadata": {},
   "source": [
    "## 3. Training"
   ]
  },
  {
   "cell_type": "code",
   "execution_count": 31,
   "metadata": {},
   "outputs": [
    {
     "name": "stdout",
     "output_type": "stream",
     "text": [
      "Episode 100\tAverage Score: 0.0040\tScore: 0.0000\n",
      "Episode 200\tAverage Score: 0.0070\tScore: 0.0000\n",
      "Episode 300\tAverage Score: 0.0130\tScore: 0.0000\n",
      "Episode 400\tAverage Score: 0.0050\tScore: 0.0000\n",
      "Episode 500\tAverage Score: 0.0160\tScore: 0.0000\n",
      "Episode 600\tAverage Score: 0.0110\tScore: 0.0000\n",
      "Episode 700\tAverage Score: 0.0110\tScore: 0.0000\n",
      "Episode 800\tAverage Score: 0.0380\tScore: 0.1000\n",
      "Episode 900\tAverage Score: 0.0620\tScore: 0.1000\n",
      "Episode 1000\tAverage Score: 0.0880\tScore: 0.1000\n",
      "Episode 1100\tAverage Score: 0.0770\tScore: 0.0000\n",
      "Episode 1200\tAverage Score: 0.0940\tScore: 0.0000\n",
      "Episode 1300\tAverage Score: 0.0760\tScore: 0.1000\n",
      "Episode 1400\tAverage Score: 0.1090\tScore: 0.2000\n",
      "Episode 1500\tAverage Score: 0.1210\tScore: 0.1000\n",
      "Episode 1600\tAverage Score: 0.1038\tScore: 0.1000\n",
      "Episode 1700\tAverage Score: 0.1090\tScore: 0.1000\n",
      "Episode 1800\tAverage Score: 0.1190\tScore: 0.1000\n",
      "Episode 1900\tAverage Score: 0.1490\tScore: 0.1000\n",
      "Episode 2000\tAverage Score: 0.2210\tScore: 0.1000\n",
      "Episode 2100\tAverage Score: 0.2078\tScore: 0.7000\n",
      "Episode 2200\tAverage Score: 0.2329\tScore: 0.2000\n",
      "Episode 2272\tAverage Score: 0.5200\tScore: 4.5000\n",
      "environment solved in 2272th episodes\n",
      "Episode 2300\tAverage Score: 0.8189\tScore: 1.4000\n",
      "Episode 2400\tAverage Score: 1.9549\tScore: 2.9000\n",
      "Episode 2500\tAverage Score: 1.8148\tScore: 2.3000\n",
      "Episode 2600\tAverage Score: 1.8730\tScore: 2.1000\n",
      "Episode 2700\tAverage Score: 1.8040\tScore: 0.8000\n",
      "Episode 2800\tAverage Score: 1.7540\tScore: 1.4000\n",
      "Episode 2900\tAverage Score: 2.0230\tScore: 0.1000\n",
      "Episode 3000\tAverage Score: 0.8380\tScore: 0.6000\n"
     ]
    },
    {
     "data": {
      "image/png": "[encoded data removed]",
      "text/plain": [
       "<Figure size 432x288 with 1 Axes>"
      ]
     },
     "metadata": {
      "needs_background": "light"
     },
     "output_type": "display_data"
    },
    {
     "name": "stdout",
     "output_type": "stream",
     "text": [
      "Wall time: 6h 9min 58s\n"
     ]
    }
   ],
   "source": [
    "%%time\n",
    "\n",
    "# agent = Agent(state_size=state_size, full_state_size=full_state_size, action_size=action_size, \n",
    "#               num_agents=num_agents, num_process=2, random_seed=0)\n",
    "\n",
    "agent = Agent(state_size=state_size, action_size=action_size, num_agents=num_agents, num_process=2, random_seed=0)\n",
    "\n",
    "def ddpg(max_t=1000, log=log, log_path=log_path):\n",
    "    # ----------load variables\n",
    "    total_episodes = log['total_episodes']\n",
    "    current_episodes = log['current_episodes']\n",
    "    scores = log['scores']\n",
    "    save_every = log['save_every']\n",
    "    print_every = log['print_every']\n",
    "    solved = log['solved']\n",
    "    solved_score = log['solved_score']\n",
    "    scores_deque = deque(maxlen=100)\n",
    "\n",
    "    # ----------load weights if continue training\n",
    "    if current_episodes != 0:\n",
    "        agent.load_weights()\n",
    "\n",
    "    for i_episode in range(current_episodes + 1, total_episodes + 1):\n",
    "\n",
    "        # -----check if need to end the training-------\n",
    "        log = load_log(log_path)\n",
    "        if log['end_now']:\n",
    "            log['end_now'] = False\n",
    "            save_log(log_path, log)\n",
    "            break\n",
    "\n",
    "        # -----generating state--------\n",
    "        env_info = env.reset(train_mode=True)[brain_name]  # reset the environment    \n",
    "        states = env_info.vector_observations  # get the current state (for each agent)\n",
    "        agent.reset()\n",
    "        score = 0\n",
    "\n",
    "        for t in range(max_t):\n",
    "            actions = agent.act(states)\n",
    "            env_info = env.step(actions)[brain_name]  # send all actions to tne environment\n",
    "            next_states = env_info.vector_observations  # get next state (for each agent)\n",
    "            rewards = env_info.rewards  # get reward (for each agent)\n",
    "            dones = env_info.local_done  # see if episode finished\n",
    "            agent.step(states, actions, rewards, next_states, dones)\n",
    "\n",
    "            states = next_states\n",
    "            score += np.max(rewards)\n",
    "            if np.any(dones):\n",
    "                break\n",
    "        scores_deque.append(score)\n",
    "        scores.append(score)\n",
    "\n",
    "        print('\\rEpisode {}\\tAverage Score: {:.4f}\\tScore: {:.4f}'.format(i_episode, np.mean(scores_deque), score), end=\"\")\n",
    "        if i_episode % print_every == 0:\n",
    "            print('\\rEpisode {}\\tAverage Score: {:.4f}'.format(i_episode, np.mean(scores_deque)))\n",
    "        if np.mean(scores_deque) > solved_score and solved == False:\n",
    "            print('\\nenvironment solved in {}th episodes'.format(i_episode))\n",
    "            solved = True\n",
    "            log['solved'] = True\n",
    "            agent.save_weights()\n",
    "            save_log(log_path, log)\n",
    "\n",
    "        if i_episode % save_every == 0:\n",
    "            log['current_episodes'] = i_episode\n",
    "            log['scores'] = scores\n",
    "            save_log(log_path, log)\n",
    "            agent.save_weights()\n",
    "    if np.mean(scores_deque) > solved_score:\n",
    "        agent.save_weights()\n",
    "    return scores\n",
    "\n",
    "\n",
    "scores = ddpg()\n",
    "\n",
    "fig = plt.figure()\n",
    "ax = fig.add_subplot(111)\n",
    "plt.plot(np.arange(1, len(scores) + 1), scores)\n",
    "plt.ylabel('Score')\n",
    "plt.xlabel('Episode #')\n",
    "plt.show()"
   ]
  },
  {
   "cell_type": "markdown",
   "metadata": {},
   "source": [
    "## 4. Replay"
   ]
  },
  {
   "cell_type": "code",
   "execution_count": 45,
   "metadata": {},
   "outputs": [
    {
     "name": "stdout",
     "output_type": "stream",
     "text": [
      "Total score (averaged over agents) this episode: 0.9000000134110451\n"
     ]
    }
   ],
   "source": [
    "agent = Agent(state_size=state_size, action_size=action_size, num_agents=num_agents, num_process=2, random_seed=0)\n",
    "agent.load_weights()\n",
    "\n",
    "env_info = env.reset(train_mode=False)[brain_name]     # reset the environment    \n",
    "states = env_info.vector_observations                  # get the current state (for each agent)\n",
    "scores = np.zeros(num_agents)                          # initialize the score (for each agent)\n",
    "while True:\n",
    "    actions = agent.act(states)                        # select an action (for each agent)\n",
    "\n",
    "    env_info = env.step(actions)[brain_name]           # send all actions to tne environment\n",
    "    next_states = env_info.vector_observations         # get next state (for each agent)\n",
    "    rewards = env_info.rewards                         # get reward (for each agent)\n",
    "    dones = env_info.local_done                        # see if episode finished\n",
    "    scores += np.max(env_info.rewards)                         # update the score (for each agent)\n",
    "    states = next_states                               # roll over states to next time step\n",
    "    if np.any(dones):                                  # exit loop if episode finished\n",
    "        break\n",
    "print('Total score (averaged over agents) this episode: {}'.format(np.mean(scores)))"
   ]
  },
  {
   "cell_type": "markdown",
   "metadata": {},
   "source": [
    "## 5. Future improve\n",
    "\n",
    "First, I tried to implement maddpg to solve the tennis environment, however, the agent learned nothing after 30k episodes(the rewards is 0 for most of the times). However, when I checked the loss, the algorithm did reduce the loss. That means one thing, the critic couldn't give good advice of all time. Consider the only change I did to the model architecture of critic is to change state and action dimension to full state and action dimension. And the way I get full state space is to simply concatenate two states space from both players, I think this is the reason the critic learned nothing. For one reason, both state space contains the position and velocity of the ball, but it seems they are additive inverse. However, without the detailed knowledge of state space, I couldn't get a full state space without redudent information.\n",
    "\n",
    "Second, although ddpg successfully solved this environment, it seems that the performance of the agent stated to drop after 2900th episodes.\n",
    "\n",
    "So, there are some future works for me to explore and improve my agent.\n",
    "\n",
    "1. trying to get full state space without redudent information, in other words, make maddpg works. \n",
    "\n",
    "\tThe reason for maddpg is better than ddpg in this environment is if you check the replay. ddpg agent only knows its own environment, it wouldn't know if its opponent was unable to hit the ball(foul ball). But for maddpg agent, at least it has information of full state thus potentially knowing how to deliver the ball.  \n",
    "    \n",
    "\n",
    "2. keep digging the limitation of the performance of ddpg agent in this environment. Though ddpg has no info on its opponent, however, given enough episodes, I believe it should be able to learn how to deliver the ball."
   ]
  },
  {
   "cell_type": "code",
   "execution_count": null,
   "metadata": {},
   "outputs": [],
   "source": []
  }
 ],
 "metadata": {
  "kernelspec": {
   "display_name": "drlnd",
   "language": "python",
   "name": "drlnd"
  },
  "language_info": {
   "codemirror_mode": {
    "name": "ipython",
    "version": 3
   },
   "file_extension": ".py",
   "mimetype": "text/x-python",
   "name": "python",
   "nbconvert_exporter": "python",
   "pygments_lexer": "ipython3",
   "version": "3.6.7"
  }
 },
 "nbformat": 4,
 "nbformat_minor": 2
}
